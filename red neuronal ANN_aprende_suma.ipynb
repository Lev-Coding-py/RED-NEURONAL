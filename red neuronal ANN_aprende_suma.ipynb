{
 "cells": [
  {
   "cell_type": "code",
   "execution_count": 1,
   "id": "adb5322b",
   "metadata": {},
   "outputs": [
    {
     "name": "stdout",
     "output_type": "stream",
     "text": [
      "Requirement already satisfied: torch in /home/leonardo/anaconda3/lib/python3.10/site-packages (1.12.1)\n",
      "Requirement already satisfied: typing_extensions in /home/leonardo/anaconda3/lib/python3.10/site-packages (from torch) (4.4.0)\n",
      "Note: you may need to restart the kernel to use updated packages.\n"
     ]
    }
   ],
   "source": [
    "pip install torch\n"
   ]
  },
  {
   "cell_type": "code",
   "execution_count": 1,
   "id": "e6435ac0",
   "metadata": {},
   "outputs": [
    {
     "name": "stdout",
     "output_type": "stream",
     "text": [
      "Entrenando la red neuronal...\n",
      "Época 0, Pérdida total: 1379.0679\n",
      "Época 50, Pérdida total: 5.9021\n",
      "Época 100, Pérdida total: 6.8421\n",
      "Época 150, Pérdida total: 2.0635\n",
      "Época 200, Pérdida total: 0.1556\n",
      "Época 250, Pérdida total: 12.1578\n",
      "Época 300, Pérdida total: 2.1015\n",
      "Época 350, Pérdida total: 11.0236\n",
      "Época 400, Pérdida total: 10.0173\n",
      "Época 450, Pérdida total: 9.3514\n",
      "\n",
      "Pruebas de suma:\n",
      "2 + 3 = 5 (Estimado), Real: 5, Exactitud: True\n",
      "5 + 6 = 11 (Estimado), Real: 11, Exactitud: True\n",
      "10 + 10 = 20 (Estimado), Real: 20, Exactitud: True\n",
      "7 + 4 = 11 (Estimado), Real: 11, Exactitud: True\n",
      "0 + 9 = 9 (Estimado), Real: 9, Exactitud: True\n"
     ]
    }
   ],
   "source": [
    "\n",
    "import torch\n",
    "import torch.nn as nn\n",
    "import torch.optim as optim\n",
    "import random\n",
    "\n",
    "\n",
    "\n",
    "data = []\n",
    "for _ in range(1000):  \n",
    "    x1 = random.randint(0, 10)\n",
    "    x2 = random.randint(0, 10)\n",
    "    y = x1 + x2\n",
    "    data.append((torch.tensor([x1, x2], dtype=torch.float32), torch.tensor([y], dtype=torch.float32)))\n",
    "\n",
    "\n",
    "class SumaANN(nn.Module):\n",
    "    def __init__(self):\n",
    "        super().__init__()\n",
    "        self.fc1 = nn.Linear(2, 16)  \n",
    "        self.fc2 = nn.Linear(16, 8)\n",
    "        self.fc3 = nn.Linear(8, 1)   \n",
    "\n",
    "    def forward(self, x):\n",
    "        x = torch.relu(self.fc1(x))\n",
    "        x = torch.relu(self.fc2(x))\n",
    "        return self.fc3(x)\n",
    "\n",
    "\n",
    "model = SumaANN()\n",
    "\n",
    "\n",
    "optimizer = optim.Adam(model.parameters(), lr=0.01)\n",
    "\n",
    "\n",
    "print(\"Entrenando la red neuronal...\")\n",
    "for epoch in range(500):\n",
    "    total_loss = 0\n",
    "    for x, y in data:\n",
    "        pred = model(x)\n",
    "        loss = criterion(pred, y)\n",
    "        optimizer.zero_grad()\n",
    "        loss.backward()\n",
    "        optimizer.step()\n",
    "        total_loss += loss.item()\n",
    "    if epoch % 50 == 0:\n",
    "        print(f\"Época {epoch}, Pérdida total: {total_loss:.4f}\")\n",
    "\n",
    "\n",
    "        \n",
    "def probar_suma(a, b):\n",
    "    entrada = torch.tensor([a, b], dtype=torch.float32)\n",
    "    salida = model(entrada).item()\n",
    "    print(f\"{a} + {b} = {round(salida)} (Estimado), Real: {a + b}, Exactitud: {abs(round(salida) - (a + b)) == 0}\")\n",
    "\n",
    "\n",
    "print(\"\\nPruebas de suma:\")\n",
    "probar_suma(2, 3)\n",
    "probar_suma(5, 6)\n",
    "probar_suma(10, 10)\n",
    "probar_suma(7, 4)\n",
    "probar_suma(0, 9)\n"
   ]
  },
  {
   "cell_type": "code",
   "execution_count": 10,
   "id": "43b3a5e5",
   "metadata": {},
   "outputs": [
    {
     "name": "stdout",
     "output_type": "stream",
     "text": [
      "12575 + 18534 = 31113 (Estimado), Real: 31109, Exactitud: False\n"
     ]
    }
   ],
   "source": [
    "probar_suma(12575,18534)"
   ]
  },
  {
   "cell_type": "code",
   "execution_count": 11,
   "id": "cf044277",
   "metadata": {},
   "outputs": [
    {
     "name": "stdout",
     "output_type": "stream",
     "text": [
      "561 + 732 = 1293 (Estimado), Real: 1293, Exactitud: True\n"
     ]
    }
   ],
   "source": [
    "probar_suma(561,732)"
   ]
  },
  {
   "cell_type": "code",
   "execution_count": 12,
   "id": "c4efb825",
   "metadata": {},
   "outputs": [
    {
     "name": "stdout",
     "output_type": "stream",
     "text": [
      "756333 + 5585858 = 6362754 (Estimado), Real: 6342191, Exactitud: False\n"
     ]
    }
   ],
   "source": [
    "probar_suma(756333,5585858)"
   ]
  },
  {
   "cell_type": "code",
   "execution_count": 13,
   "id": "c07be0e5",
   "metadata": {},
   "outputs": [
    {
     "name": "stdout",
     "output_type": "stream",
     "text": [
      "51 + 50 = 101 (Estimado), Real: 101, Exactitud: True\n"
     ]
    }
   ],
   "source": [
    "probar_suma(51,50)"
   ]
  },
  {
   "cell_type": "code",
   "execution_count": null,
   "id": "3a05c0f1",
   "metadata": {},
   "outputs": [],
   "source": []
  }
 ],
 "metadata": {
  "kernelspec": {
   "display_name": "Python 3 (ipykernel)",
   "language": "python",
   "name": "python3"
  },
  "language_info": {
   "codemirror_mode": {
    "name": "ipython",
    "version": 3
   },
   "file_extension": ".py",
   "mimetype": "text/x-python",
   "name": "python",
   "nbconvert_exporter": "python",
   "pygments_lexer": "ipython3",
   "version": "3.10.9"
  }
 },
 "nbformat": 4,
 "nbformat_minor": 5
}
